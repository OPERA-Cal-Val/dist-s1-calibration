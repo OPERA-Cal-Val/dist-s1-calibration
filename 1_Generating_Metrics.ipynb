{
 "cells": [
  {
   "cell_type": "code",
   "execution_count": 1,
   "id": "22a5a2fe-848e-4826-8fbc-256e0c4f048a",
   "metadata": {},
   "outputs": [],
   "source": [
    "import geopandas as gpd\n",
    "import rasterio\n",
    "import matplotlib.pyplot as plt\n",
    "import numpy as np\n",
    "from pathlib import Path\n",
    "import yaml\n",
    "from datetime import datetime, timedelta\n",
    "from distmetrics import (compute_transformer_zscore, \n",
    "                         load_trained_transformer_model, \n",
    "                         compute_mahalonobis_dist_2d, \n",
    "                          compute_mahalonobis_dist_1d, compute_log_ratio_decrease_metric)\n",
    "from tqdm import tqdm\n",
    "import json"
   ]
  },
  {
   "cell_type": "markdown",
   "id": "b4e698bd-c73e-4445-b451-7b560b9a20bf",
   "metadata": {},
   "source": [
    "# Parameters"
   ]
  },
  {
   "cell_type": "code",
   "execution_count": 20,
   "id": "f3a723b5-d009-41e3-b746-729a29d88f81",
   "metadata": {
    "editable": true,
    "slideshow": {
     "slide_type": ""
    },
    "tags": [
     "parameters"
    ]
   },
   "outputs": [],
   "source": [
    "EVENT_NAME = 'chile_fire_2024'\n",
    "TRACK_IDX = 0\n",
    "\n",
    "MAX_PRE_EVENT_GROUPS = 2\n",
    "MAX_POST_EVENT_GROUPS = 2\n",
    "\n",
    "LOOKBACK_DELTA_DAYS = 0\n",
    "\n",
    "MAX_PRE_IMGS = 8\n",
    "MIN_PRE_IMGS = 2\n",
    "\n",
    "DISTMETRIC_NAME = 'transformer' # options 'transformer', 'mahalanobis_2d', 'mahalanobis_vh', 'mahalanobis_1d_max', 'log_ratio_vh'"
   ]
  },
  {
   "cell_type": "code",
   "execution_count": 21,
   "id": "1445e294-e40a-4211-80ec-8f3638108fee",
   "metadata": {
    "editable": true,
    "slideshow": {
     "slide_type": ""
    },
    "tags": []
   },
   "outputs": [],
   "source": [
    "assert DISTMETRIC_NAME in ['transformer', 'mahalanobis_2d', 'mahalanobis_vh', 'mahalanobis_1d_max', 'log_ratio_vh']"
   ]
  },
  {
   "cell_type": "markdown",
   "id": "8dc27fd5-a485-4531-b231-e6be0e28a7cc",
   "metadata": {
    "editable": true,
    "slideshow": {
     "slide_type": ""
    },
    "tags": []
   },
   "source": [
    "# Directories"
   ]
  },
  {
   "cell_type": "code",
   "execution_count": 22,
   "id": "d53d3ac2-0781-453f-aacd-4b234e7471c1",
   "metadata": {
    "editable": true,
    "slideshow": {
     "slide_type": ""
    },
    "tags": []
   },
   "outputs": [],
   "source": [
    "DIST_EVENT_REPO = Path('../dist-s1-events')\n",
    "\n",
    "DATA_DIR = DIST_EVENT_REPO / 'out'\n",
    "EVENT_DIR = DATA_DIR / EVENT_NAME\n",
    "EVENT_DIR = DATA_DIR / EVENT_NAME\n",
    "EVENT_YAML_DIR = DIST_EVENT_REPO / 'events'\n",
    "rtc_dir = EVENT_DIR / 'rtc_ts_merged'\n",
    "tracks = sorted([int(d.stem.replace('track', '')) for d in rtc_dir.glob('*/')])\n",
    "ts_dir = rtc_dir / f'track{tracks[TRACK_IDX]}'\n",
    "WATER_MASK_DIR = EVENT_DIR / 'water_mask'"
   ]
  },
  {
   "cell_type": "code",
   "execution_count": 23,
   "id": "1d2da5af-d13b-4313-befb-2ffdbb59917d",
   "metadata": {
    "editable": true,
    "slideshow": {
     "slide_type": ""
    },
    "tags": []
   },
   "outputs": [
    {
     "data": {
      "text/plain": [
       "[True, True, True, True, True, True, True, True]"
      ]
     },
     "execution_count": 23,
     "metadata": {},
     "output_type": "execute_result"
    }
   ],
   "source": [
    "dirs = [DIST_EVENT_REPO,\n",
    "DATA_DIR,\n",
    "EVENT_DIR,\n",
    "EVENT_DIR,\n",
    "EVENT_YAML_DIR,\n",
    "WATER_MASK_DIR,\n",
    "rtc_dir,\n",
    "ts_dir]\n",
    "\n",
    "[p.exists() for p in dirs]"
   ]
  },
  {
   "cell_type": "code",
   "execution_count": 24,
   "id": "f7d49736-cc4b-47d2-8723-532abc046bc7",
   "metadata": {
    "editable": true,
    "slideshow": {
     "slide_type": ""
    },
    "tags": []
   },
   "outputs": [
    {
     "data": {
      "text/plain": [
       "{'event_name': 'chile_fire_2024',\n",
       " 'bounds': [-71.53071089, -33.20143816, -71.2964628, -32.98270579],\n",
       " 'event_date': '2024-02-04',\n",
       " 'pre_event_window_days': 180,\n",
       " 'post_event_window_days': 100,\n",
       " 'rtc_track_numbers': [18, 156],\n",
       " 'mgrs_tiles': ['19HBD'],\n",
       " 'source_id': 'EMSR715 AOI1',\n",
       " 'dist_hls_confirmed_change_min_days': 30,\n",
       " 'links': ['https://earthobservatory.nasa.gov/images/152411/fires-rage-in-central-chile',\n",
       "  'https://en.wikipedia.org/wiki/2024_Chile_wildfires']}"
      ]
     },
     "execution_count": 24,
     "metadata": {},
     "output_type": "execute_result"
    }
   ],
   "source": [
    "yaml_file = EVENT_YAML_DIR / f'{EVENT_NAME}.yml'\n",
    "with open(yaml_file) as f:\n",
    "    event_dict = yaml.safe_load(f)[\"event\"]\n",
    "event_dict"
   ]
  },
  {
   "cell_type": "markdown",
   "id": "6394546c-ef95-4681-a0b2-1e4a2bf6e0c3",
   "metadata": {
    "editable": true,
    "slideshow": {
     "slide_type": ""
    },
    "tags": []
   },
   "source": [
    "# RTC"
   ]
  },
  {
   "cell_type": "code",
   "execution_count": 25,
   "id": "4d81cf50-33bf-44db-96cf-00aa91c2acaf",
   "metadata": {
    "editable": true,
    "slideshow": {
     "slide_type": ""
    },
    "tags": []
   },
   "outputs": [],
   "source": [
    "EVENT_DATE = datetime.strptime(event_dict['event_date'], '%Y-%m-%d')\n",
    "TRACKS = event_dict['rtc_track_numbers']\n",
    "EVENT_DATE, TRACKS"
   ]
  },
  {
   "cell_type": "code",
   "execution_count": 27,
   "id": "ae13ecbe-45f5-4cab-b9ee-59efb000bc64",
   "metadata": {
    "editable": true,
    "slideshow": {
     "slide_type": ""
    },
    "tags": []
   },
   "outputs": [
    {
     "data": {
      "text/plain": [
       "[datetime.datetime(2023, 11, 1, 0, 0),\n",
       " datetime.datetime(2023, 11, 13, 0, 0),\n",
       " datetime.datetime(2023, 11, 25, 0, 0),\n",
       " datetime.datetime(2023, 12, 7, 0, 0),\n",
       " datetime.datetime(2023, 12, 19, 0, 0),\n",
       " datetime.datetime(2023, 12, 31, 0, 0),\n",
       " datetime.datetime(2024, 1, 12, 0, 0),\n",
       " datetime.datetime(2024, 1, 24, 0, 0),\n",
       " datetime.datetime(2024, 2, 5, 0, 0),\n",
       " datetime.datetime(2024, 2, 17, 0, 0),\n",
       " datetime.datetime(2024, 2, 29, 0, 0),\n",
       " datetime.datetime(2024, 3, 12, 0, 0),\n",
       " datetime.datetime(2024, 3, 24, 0, 0)]"
      ]
     },
     "execution_count": 27,
     "metadata": {},
     "output_type": "execute_result"
    }
   ],
   "source": [
    "rtc_acq_dts = sorted([datetime.strptime(p.stem.split('_')[1], '%Y-%m-%d') for p in ts_dir.glob('*VV.tif')])\n",
    "rtc_acq_dts"
   ]
  },
  {
   "cell_type": "markdown",
   "id": "800137fc-b04e-45e7-9306-5691e2ef5956",
   "metadata": {
    "editable": true,
    "slideshow": {
     "slide_type": ""
    },
    "tags": []
   },
   "source": [
    "At least, we want:\n",
    "\n",
    "1. post-event image + {pre-event} images AND pre-event image + {pre-event images} mirroring operational inputs\n",
    "2. twice - the first and second acquistion after event = post AND two sets of preimages before acquisition"
   ]
  },
  {
   "cell_type": "code",
   "execution_count": 28,
   "id": "ce8b1780-23e2-40ed-acd4-f76ce9467180",
   "metadata": {
    "editable": true,
    "slideshow": {
     "slide_type": ""
    },
    "tags": []
   },
   "outputs": [
    {
     "data": {
      "text/plain": [
       "([datetime.datetime(2023, 11, 1, 0, 0),\n",
       "  datetime.datetime(2023, 11, 13, 0, 0),\n",
       "  datetime.datetime(2023, 11, 25, 0, 0),\n",
       "  datetime.datetime(2023, 12, 7, 0, 0),\n",
       "  datetime.datetime(2023, 12, 19, 0, 0),\n",
       "  datetime.datetime(2023, 12, 31, 0, 0),\n",
       "  datetime.datetime(2024, 1, 12, 0, 0),\n",
       "  datetime.datetime(2024, 1, 24, 0, 0)],\n",
       " 8)"
      ]
     },
     "execution_count": 28,
     "metadata": {},
     "output_type": "execute_result"
    }
   ],
   "source": [
    "pre_dts_all =  [dt for dt in rtc_acq_dts if dt < EVENT_DATE - timedelta(days=LOOKBACK_DELTA_DAYS)]\n",
    "pre_dts_all, len(pre_dts_all)"
   ]
  },
  {
   "cell_type": "code",
   "execution_count": 29,
   "id": "5a783d38-c921-47a0-8505-7ec00c1039ac",
   "metadata": {
    "editable": true,
    "slideshow": {
     "slide_type": ""
    },
    "tags": []
   },
   "outputs": [
    {
     "data": {
      "text/plain": [
       "[datetime.datetime(2024, 2, 5, 0, 0),\n",
       " datetime.datetime(2024, 2, 17, 0, 0),\n",
       " datetime.datetime(2024, 2, 29, 0, 0),\n",
       " datetime.datetime(2024, 3, 12, 0, 0),\n",
       " datetime.datetime(2024, 3, 24, 0, 0)]"
      ]
     },
     "execution_count": 29,
     "metadata": {},
     "output_type": "execute_result"
    }
   ],
   "source": [
    "post_dts_all =  [dt for dt in rtc_acq_dts if (dt >= EVENT_DATE)]\n",
    "post_dts_all"
   ]
  },
  {
   "cell_type": "markdown",
   "id": "6a2e7676-09d9-4a5c-b1d1-c7695e0e9be3",
   "metadata": {
    "editable": true,
    "slideshow": {
     "slide_type": ""
    },
    "tags": []
   },
   "source": [
    "# Generate Groups"
   ]
  },
  {
   "cell_type": "code",
   "execution_count": 30,
   "id": "4c41ae56-7737-4fb6-8cee-dd338bfca4ba",
   "metadata": {
    "editable": true,
    "slideshow": {
     "slide_type": ""
    },
    "tags": []
   },
   "outputs": [
    {
     "data": {
      "text/plain": [
       "[{'pre': [datetime.datetime(2023, 11, 1, 0, 0),\n",
       "   datetime.datetime(2023, 11, 13, 0, 0),\n",
       "   datetime.datetime(2023, 11, 25, 0, 0),\n",
       "   datetime.datetime(2023, 12, 7, 0, 0),\n",
       "   datetime.datetime(2023, 12, 19, 0, 0),\n",
       "   datetime.datetime(2023, 12, 31, 0, 0),\n",
       "   datetime.datetime(2024, 1, 12, 0, 0)],\n",
       "  'post': [datetime.datetime(2024, 1, 24, 0, 0)]},\n",
       " {'pre': [datetime.datetime(2023, 11, 1, 0, 0),\n",
       "   datetime.datetime(2023, 11, 13, 0, 0),\n",
       "   datetime.datetime(2023, 11, 25, 0, 0),\n",
       "   datetime.datetime(2023, 12, 7, 0, 0),\n",
       "   datetime.datetime(2023, 12, 19, 0, 0),\n",
       "   datetime.datetime(2023, 12, 31, 0, 0)],\n",
       "  'post': [datetime.datetime(2024, 1, 12, 0, 0)]}]"
      ]
     },
     "execution_count": 30,
     "metadata": {},
     "output_type": "execute_result"
    }
   ],
   "source": [
    "pre_event_group_dts = [{'pre': pre_dts_all[-MAX_PRE_IMGS - i - 1: - i],\n",
    "                     'post': [pre_dts_all[-i]]        \n",
    "                    } for i in range(1, MAX_PRE_EVENT_GROUPS + 1)\n",
    "                    if len(pre_dts_all[-MAX_PRE_IMGS - i - 1: - i]) >= MIN_PRE_IMGS]\n",
    "pre_event_group_dts"
   ]
  },
  {
   "cell_type": "code",
   "execution_count": 31,
   "id": "a078671e-d533-4db5-89e5-84135b8ff858",
   "metadata": {
    "editable": true,
    "slideshow": {
     "slide_type": ""
    },
    "tags": []
   },
   "outputs": [
    {
     "data": {
      "text/plain": [
       "[{'pre': [datetime.datetime(2023, 11, 1, 0, 0),\n",
       "   datetime.datetime(2023, 11, 13, 0, 0),\n",
       "   datetime.datetime(2023, 11, 25, 0, 0),\n",
       "   datetime.datetime(2023, 12, 7, 0, 0),\n",
       "   datetime.datetime(2023, 12, 19, 0, 0),\n",
       "   datetime.datetime(2023, 12, 31, 0, 0),\n",
       "   datetime.datetime(2024, 1, 12, 0, 0),\n",
       "   datetime.datetime(2024, 1, 24, 0, 0)],\n",
       "  'post': [datetime.datetime(2024, 2, 5, 0, 0)]},\n",
       " {'pre': [datetime.datetime(2023, 11, 1, 0, 0),\n",
       "   datetime.datetime(2023, 11, 13, 0, 0),\n",
       "   datetime.datetime(2023, 11, 25, 0, 0),\n",
       "   datetime.datetime(2023, 12, 7, 0, 0),\n",
       "   datetime.datetime(2023, 12, 19, 0, 0),\n",
       "   datetime.datetime(2023, 12, 31, 0, 0),\n",
       "   datetime.datetime(2024, 1, 12, 0, 0),\n",
       "   datetime.datetime(2024, 1, 24, 0, 0)],\n",
       "  'post': [datetime.datetime(2024, 2, 17, 0, 0)]}]"
      ]
     },
     "execution_count": 31,
     "metadata": {},
     "output_type": "execute_result"
    }
   ],
   "source": [
    "post_event_group_dts = [{'pre': pre_dts_all[-MAX_PRE_IMGS -i:],\n",
    "                     'post': [post_dts_all[i]]        \n",
    "                    } for i in range(MAX_POST_EVENT_GROUPS)\n",
    "                    if len(pre_dts_all[-MAX_PRE_IMGS -i:]) >= MIN_PRE_IMGS]\n",
    "post_event_group_dts"
   ]
  },
  {
   "cell_type": "code",
   "execution_count": 32,
   "id": "6870c8d5-fc91-4e1d-ac35-310f3bb63f25",
   "metadata": {
    "editable": true,
    "slideshow": {
     "slide_type": ""
    },
    "tags": []
   },
   "outputs": [
    {
     "data": {
      "text/plain": [
       "[{'pre': [0, 1, 2, 3, 4, 5, 6], 'post': [7]},\n",
       " {'pre': [0, 1, 2, 3, 4, 5], 'post': [6]}]"
      ]
     },
     "execution_count": 32,
     "metadata": {},
     "output_type": "execute_result"
    }
   ],
   "source": [
    "post_event_groups_ind = [{key: [ind for (ind, dt) in enumerate(rtc_acq_dts) if dt in d[key]] \n",
    "                          for key in d.keys()} \n",
    "                         for d in post_event_group_dts]\n",
    "pre_event_groups_ind = [{key: [ind for (ind, dt) in enumerate(rtc_acq_dts) if dt in d[key]] \n",
    "                          for key in d.keys()} \n",
    "                         for d in pre_event_group_dts]\n",
    "pre_event_groups_ind"
   ]
  },
  {
   "cell_type": "code",
   "execution_count": 33,
   "id": "8621a916-cc3e-496d-a769-19d2f306d02b",
   "metadata": {
    "editable": true,
    "slideshow": {
     "slide_type": ""
    },
    "tags": []
   },
   "outputs": [],
   "source": [
    "vv_paths = sorted(list(ts_dir.glob('*VV.tif')))\n",
    "vh_paths = sorted(list(ts_dir.glob('*VH.tif')))"
   ]
  },
  {
   "cell_type": "markdown",
   "id": "d6ccfaf3-625f-4441-a9f7-7fe288dc6d42",
   "metadata": {
    "editable": true,
    "slideshow": {
     "slide_type": ""
    },
    "tags": []
   },
   "source": [
    "# Metric setup"
   ]
  },
  {
   "cell_type": "code",
   "execution_count": 38,
   "id": "d8559a5e-969e-42b6-8d22-1392ce98588e",
   "metadata": {
    "editable": true,
    "slideshow": {
     "slide_type": ""
    },
    "tags": []
   },
   "outputs": [],
   "source": [
    "def distmetric(pre_vv=None,\n",
    "               pre_vh=None,\n",
    "               post_vv=None,\n",
    "               post_vh=None):\n",
    "    \"\"\"Pass in all data; use only what is necesary\"\"\"\n",
    "    if DISTMETRIC_NAME == 'transformer':\n",
    "        if any([len(pre) < 2 for pre in pre_vv + pre_vh]):\n",
    "            raise ValueError('pre images must be at least 2')\n",
    "        model = load_trained_transformer_model()\n",
    "        dist_ob = compute_transformer_zscore(model,\n",
    "                                          pre_vv,\n",
    "                                          pre_vh,\n",
    "                                          post_vv,\n",
    "                                          post_vh,\n",
    "                                          stride=2)\n",
    "        distance = dist_ob.dist\n",
    "    elif DISTMETRIC_NAME == 'mahalanobis_2d':\n",
    "        dist_ob = compute_mahalonobis_dist_2d(pre_vv,\n",
    "                                          pre_vh,\n",
    "                                          post_vv,\n",
    "                                          post_vh,\n",
    "                                          eig_lb=.001 * np.sqrt(2),\n",
    "                                          window_size=3,\n",
    "                                          logit_transformed=True)\n",
    "        distance = dist_ob.dist\n",
    "    elif DISTMETRIC_NAME == 'mahalanobis_vh':\n",
    "        dist_ob = compute_mahalonobis_dist_1d(\n",
    "                                          pre_vh,\n",
    "                                          post_vh,\n",
    "                                          sigma_lb=.005,\n",
    "                                          window_size=3,\n",
    "                                          logit_transformed=True)\n",
    "        distance = dist_ob.dist\n",
    "    elif DISTMETRIC_NAME == 'log_ratio_vh':\n",
    "        dist_ob = compute_log_ratio_decrease_metric(pre_vh,\n",
    "                                          post_vh,\n",
    "                                          window_size=1,\n",
    "                                          qual_stat_for_pre_imgs='median')\n",
    "        distance = dist_ob.dist\n",
    "\n",
    "    elif DISTMETRIC_NAME == 'mahalanobis_1d_max':\n",
    "        dist_ob_vh = compute_mahalonobis_dist_1d(\n",
    "                                          pre_vh,\n",
    "                                          post_vh,\n",
    "                                          sigma_lb=.005,\n",
    "                                          window_size=3,\n",
    "                                          logit_transformed=True)\n",
    "        distance_vh = dist_ob_vh.dist\n",
    "\n",
    "        dist_ob_vv = compute_mahalonobis_dist_1d(\n",
    "                                          pre_vv,\n",
    "                                          post_vv,\n",
    "                                          sigma_lb=.01,\n",
    "                                          window_size=3,\n",
    "                                          logit_transformed=True)\n",
    "        distance_vv = dist_ob_vv.dist\n",
    "        distance = np.maximum(distance_vv, distance_vh)\n",
    "    \n",
    "    else:\n",
    "        raise NotImplementedError\n",
    "    return distance"
   ]
  },
  {
   "cell_type": "markdown",
   "id": "db6ce2df-4036-4886-85d9-eb1afd3c598e",
   "metadata": {
    "editable": true,
    "slideshow": {
     "slide_type": ""
    },
    "tags": []
   },
   "source": [
    "# Serialize"
   ]
  },
  {
   "cell_type": "code",
   "execution_count": 39,
   "id": "ebf09c0a-8288-45d7-9172-cf1e13e938ae",
   "metadata": {
    "editable": true,
    "slideshow": {
     "slide_type": ""
    },
    "tags": []
   },
   "outputs": [],
   "source": [
    "site_metric_dir = Path('out_metrics') / EVENT_NAME / f'track{TRACKS[TRACK_IDX]}' / DISTMETRIC_NAME\n",
    "site_metric_dir.mkdir(exist_ok=True, parents=True)"
   ]
  },
  {
   "cell_type": "code",
   "execution_count": 42,
   "id": "9223eaf5-65cc-487b-b448-a6437b865ba2",
   "metadata": {
    "editable": true,
    "slideshow": {
     "slide_type": ""
    },
    "tags": []
   },
   "outputs": [],
   "source": [
    "with rasterio.open(WATER_MASK_DIR / 'water_mask.tif') as ds:\n",
    "    X_water = ds.read(1).astype(bool)\n",
    "def open_one_arr(path):\n",
    "    with rasterio.open(path) as ds:\n",
    "        X = ds.read(1)\n",
    "        X[X_water] = np.nan\n",
    "    # For debugging\n",
    "    # X = X[2000:2100, 2500:2600]\n",
    "    return X\n",
    "\n",
    "def datetime_serializer(obj):\n",
    "    if isinstance(obj, datetime):\n",
    "        return obj.isoformat()  # Convert to ISO 8601 format\n",
    "    raise TypeError(\"Type not serializable\")\n",
    "\n",
    "def distmetric_serialize():\n",
    "    indices = post_event_groups_ind + pre_event_groups_ind\n",
    "    dts = post_event_group_dts + pre_event_group_dts\n",
    "    event_tokens = ['post'] * len(post_event_groups_ind) + ['pre'] * len(pre_event_groups_ind)\n",
    "    paths = [{'pre_vv': sorted([vv_paths[i] for i in d['pre']]),\n",
    "              'pre_vh': sorted([vh_paths[i] for i in d['pre']]),\n",
    "              'post_vv': [vv_paths[i] for i in d['post']],\n",
    "              'post_vh': [vh_paths[i] for i in d['post']]} \n",
    "             for d in indices]\n",
    "    track_token = f'track{TRACKS[TRACK_IDX]}'\n",
    "\n",
    "    def distmetric_wrapper(zipped_inputs):\n",
    "        path_dict, date_dict, event_token = zipped_inputs\n",
    "        array_inputs = {key: list(map(open_one_arr, paths)) for (key, paths) in path_dict.items()}\n",
    "        distance = distmetric(array_inputs['pre_vv'],\n",
    "                              array_inputs['pre_vh'],\n",
    "                              array_inputs['post_vv'][0],\n",
    "                              array_inputs['post_vh'][0])\n",
    "        date_token = date_dict['post'][0].strftime('%Y-%m-%d')\n",
    "        out_path = site_metric_dir / f'{event_token}_{date_token}_{DISTMETRIC_NAME}_{track_token}.tif'\n",
    "        with rasterio.open(paths[0]['post_vv'][0]) as ds:\n",
    "            p = ds.profile\n",
    "        with rasterio.open(out_path, 'w', **p) as ds:\n",
    "            ds.write(distance, 1)\n",
    "        return out_path\n",
    "    inputs = list(zip(paths, dts, event_tokens))\n",
    "    out_paths = list(map(distmetric_wrapper, tqdm(inputs)))\n",
    "\n",
    "    # Global Params\n",
    "    params = {'lookback_delta_days': LOOKBACK_DELTA_DAYS,\n",
    "                  'max_pre_event_groups': MAX_PRE_EVENT_GROUPS,\n",
    "                  'max_pre_event_groups': MAX_POST_EVENT_GROUPS,\n",
    "                  'max_pre_imgs': MAX_PRE_IMGS,\n",
    "                  'min_pre_imgs': MIN_PRE_IMGS,\n",
    "                  'distmetric_name': DISTMETRIC_NAME}\n",
    "    json.dump(params, open(site_metric_dir / 'metric_params.json', 'w'), indent=4)\n",
    "\n",
    "    # date inputs\n",
    "    data = {f'{t}_{dt_data[\"post\"][0].strftime(\"%Y-%m-%d\")}' :dt_data \n",
    "            for t, dt_data in zip(event_tokens, dts)}\n",
    "    with open(site_metric_dir / f'dates_{track_token}.json', 'w') as json_file:\n",
    "        json.dump(data, json_file, default=datetime_serializer, indent=4)\n",
    "    return out_paths"
   ]
  },
  {
   "cell_type": "code",
   "execution_count": 43,
   "id": "8c57cf86-31e2-443a-a242-67086a79e414",
   "metadata": {
    "editable": true,
    "slideshow": {
     "slide_type": ""
    },
    "tags": []
   },
   "outputs": [
    {
     "name": "stderr",
     "output_type": "stream",
     "text": [
      "  0%|                                                    | 0/4 [00:00<?, ?it/s]\n",
      "Rows Traversed:   0%|                                   | 0/43 [00:00<?, ?it/s]\u001b[A\n",
      "Rows Traversed:   2%|▋                          | 1/43 [00:00<00:05,  7.62it/s]\u001b[A\n",
      "Rows Traversed:   5%|█▎                         | 2/43 [00:00<00:05,  7.27it/s]\u001b[A\n",
      "Rows Traversed:   7%|█▉                         | 3/43 [00:00<00:05,  7.05it/s]\u001b[A\n",
      "Rows Traversed:   9%|██▌                        | 4/43 [00:00<00:05,  6.96it/s]\u001b[A\n",
      "Rows Traversed:  12%|███▏                       | 5/43 [00:00<00:05,  6.89it/s]\u001b[A\n",
      "Rows Traversed:  14%|███▊                       | 6/43 [00:00<00:05,  6.80it/s]\u001b[A\n",
      "Rows Traversed:  16%|████▍                      | 7/43 [00:01<00:05,  6.76it/s]\u001b[A\n",
      "Rows Traversed:  19%|█████                      | 8/43 [00:01<00:05,  6.54it/s]\u001b[A\n",
      "Rows Traversed:  21%|█████▋                     | 9/43 [00:01<00:05,  6.44it/s]\u001b[A\n",
      "Rows Traversed:  23%|██████                    | 10/43 [00:01<00:05,  6.22it/s]\u001b[A\n",
      "Rows Traversed:  26%|██████▋                   | 11/43 [00:01<00:05,  6.16it/s]\u001b[A\n",
      "Rows Traversed:  28%|███████▎                  | 12/43 [00:01<00:05,  6.15it/s]\u001b[A\n",
      "Rows Traversed:  30%|███████▊                  | 13/43 [00:02<00:05,  5.58it/s]\u001b[A\n",
      "Rows Traversed:  33%|████████▍                 | 14/43 [00:02<00:05,  5.58it/s]\u001b[A\n",
      "Rows Traversed:  35%|█████████                 | 15/43 [00:02<00:04,  5.84it/s]\u001b[A\n",
      "Rows Traversed:  37%|█████████▋                | 16/43 [00:02<00:04,  5.94it/s]\u001b[A\n",
      "Rows Traversed:  40%|██████████▎               | 17/43 [00:02<00:04,  5.89it/s]\u001b[A\n",
      "Rows Traversed:  42%|██████████▉               | 18/43 [00:02<00:04,  5.85it/s]\u001b[A\n",
      "Rows Traversed:  44%|███████████▍              | 19/43 [00:03<00:04,  5.96it/s]\u001b[A\n",
      "Rows Traversed:  47%|████████████              | 20/43 [00:03<00:03,  5.94it/s]\u001b[A\n",
      "Rows Traversed:  49%|████████████▋             | 21/43 [00:03<00:03,  5.94it/s]\u001b[A\n",
      "Rows Traversed:  51%|█████████████▎            | 22/43 [00:03<00:03,  5.87it/s]\u001b[A\n",
      "Rows Traversed:  53%|█████████████▉            | 23/43 [00:03<00:03,  5.92it/s]\u001b[A\n",
      "Rows Traversed:  56%|██████████████▌           | 24/43 [00:03<00:03,  6.05it/s]\u001b[A\n",
      "Rows Traversed:  58%|███████████████           | 25/43 [00:04<00:02,  6.11it/s]\u001b[A\n",
      "Rows Traversed:  60%|███████████████▋          | 26/43 [00:04<00:02,  6.06it/s]\u001b[A\n",
      "Rows Traversed:  63%|████████████████▎         | 27/43 [00:04<00:02,  6.07it/s]\u001b[A\n",
      "Rows Traversed:  65%|████████████████▉         | 28/43 [00:04<00:02,  6.07it/s]\u001b[A\n",
      "Rows Traversed:  67%|█████████████████▌        | 29/43 [00:04<00:02,  6.01it/s]\u001b[A\n",
      "Rows Traversed:  70%|██████████████████▏       | 30/43 [00:04<00:02,  6.18it/s]\u001b[A\n",
      "Rows Traversed:  72%|██████████████████▋       | 31/43 [00:05<00:01,  6.29it/s]\u001b[A\n",
      "Rows Traversed:  74%|███████████████████▎      | 32/43 [00:05<00:01,  6.46it/s]\u001b[A\n",
      "Rows Traversed:  77%|███████████████████▉      | 33/43 [00:05<00:01,  6.32it/s]\u001b[A\n",
      "Rows Traversed:  79%|████████████████████▌     | 34/43 [00:05<00:01,  6.51it/s]\u001b[A\n",
      "Rows Traversed:  81%|█████████████████████▏    | 35/43 [00:05<00:01,  5.91it/s]\u001b[A\n",
      "Rows Traversed:  84%|█████████████████████▊    | 36/43 [00:05<00:01,  6.04it/s]\u001b[A\n",
      "Rows Traversed:  86%|██████████████████████▎   | 37/43 [00:05<00:00,  6.31it/s]\u001b[A\n",
      "Rows Traversed:  88%|██████████████████████▉   | 38/43 [00:06<00:00,  6.45it/s]\u001b[A\n",
      "Rows Traversed:  91%|███████████████████████▌  | 39/43 [00:06<00:00,  6.57it/s]\u001b[A\n",
      "Rows Traversed:  93%|████████████████████████▏ | 40/43 [00:06<00:00,  6.70it/s]\u001b[A\n",
      "Rows Traversed:  95%|████████████████████████▊ | 41/43 [00:06<00:00,  6.76it/s]\u001b[A\n",
      "Rows Traversed:  98%|█████████████████████████▍| 42/43 [00:06<00:00,  6.50it/s]\u001b[A\n",
      "Rows Traversed: 100%|██████████████████████████| 43/43 [00:06<00:00,  6.25it/s]\u001b[A\n",
      " 25%|███████████                                 | 1/4 [00:09<00:28,  9.60s/it]\n",
      "Rows Traversed:   0%|                                   | 0/43 [00:00<?, ?it/s]\u001b[A\n",
      "Rows Traversed:   2%|▋                          | 1/43 [00:00<00:06,  6.88it/s]\u001b[A\n",
      "Rows Traversed:   5%|█▎                         | 2/43 [00:00<00:06,  6.65it/s]\u001b[A\n",
      "Rows Traversed:   7%|█▉                         | 3/43 [00:00<00:06,  6.64it/s]\u001b[A\n",
      "Rows Traversed:   9%|██▌                        | 4/43 [00:00<00:05,  6.64it/s]\u001b[A\n",
      "Rows Traversed:  12%|███▏                       | 5/43 [00:00<00:05,  6.69it/s]\u001b[A\n",
      "Rows Traversed:  14%|███▊                       | 6/43 [00:00<00:05,  6.77it/s]\u001b[A\n",
      "Rows Traversed:  16%|████▍                      | 7/43 [00:01<00:05,  6.54it/s]\u001b[A\n",
      "Rows Traversed:  19%|█████                      | 8/43 [00:01<00:05,  6.39it/s]\u001b[A\n",
      "Rows Traversed:  21%|█████▋                     | 9/43 [00:01<00:05,  6.29it/s]\u001b[A\n",
      "Rows Traversed:  23%|██████                    | 10/43 [00:01<00:04,  6.70it/s]\u001b[A\n",
      "Rows Traversed:  26%|██████▋                   | 11/43 [00:01<00:04,  6.94it/s]\u001b[A\n",
      "Rows Traversed:  28%|███████▎                  | 12/43 [00:01<00:04,  6.73it/s]\u001b[A\n",
      "Rows Traversed:  30%|███████▊                  | 13/43 [00:01<00:04,  6.47it/s]\u001b[A\n",
      "Rows Traversed:  33%|████████▍                 | 14/43 [00:02<00:04,  6.32it/s]\u001b[A\n",
      "Rows Traversed:  35%|█████████                 | 15/43 [00:02<00:04,  6.18it/s]\u001b[A\n",
      "Rows Traversed:  37%|█████████▋                | 16/43 [00:02<00:04,  6.17it/s]\u001b[A\n",
      "Rows Traversed:  40%|██████████▎               | 17/43 [00:02<00:04,  6.17it/s]\u001b[A\n",
      "Rows Traversed:  42%|██████████▉               | 18/43 [00:02<00:04,  6.16it/s]\u001b[A\n",
      "Rows Traversed:  44%|███████████▍              | 19/43 [00:02<00:03,  6.05it/s]\u001b[A\n",
      "Rows Traversed:  47%|████████████              | 20/43 [00:03<00:03,  5.98it/s]\u001b[A\n",
      "Rows Traversed:  49%|████████████▋             | 21/43 [00:03<00:03,  5.97it/s]\u001b[A\n",
      "Rows Traversed:  51%|█████████████▎            | 22/43 [00:03<00:03,  5.93it/s]\u001b[A\n",
      "Rows Traversed:  53%|█████████████▉            | 23/43 [00:03<00:03,  5.87it/s]\u001b[A\n",
      "Rows Traversed:  56%|██████████████▌           | 24/43 [00:03<00:03,  5.89it/s]\u001b[A\n",
      "Rows Traversed:  58%|███████████████           | 25/43 [00:04<00:03,  5.49it/s]\u001b[A\n",
      "Rows Traversed:  60%|███████████████▋          | 26/43 [00:04<00:02,  5.75it/s]\u001b[A\n",
      "Rows Traversed:  63%|████████████████▎         | 27/43 [00:04<00:02,  5.93it/s]\u001b[A\n",
      "Rows Traversed:  65%|████████████████▉         | 28/43 [00:04<00:02,  5.92it/s]\u001b[A\n",
      "Rows Traversed:  67%|█████████████████▌        | 29/43 [00:04<00:02,  5.92it/s]\u001b[A\n",
      "Rows Traversed:  70%|██████████████████▏       | 30/43 [00:04<00:02,  6.00it/s]\u001b[A\n",
      "Rows Traversed:  72%|██████████████████▋       | 31/43 [00:05<00:02,  5.99it/s]\u001b[A\n",
      "Rows Traversed:  74%|███████████████████▎      | 32/43 [00:05<00:01,  5.93it/s]\u001b[A\n",
      "Rows Traversed:  77%|███████████████████▉      | 33/43 [00:05<00:01,  5.91it/s]\u001b[A\n",
      "Rows Traversed:  79%|████████████████████▌     | 34/43 [00:05<00:01,  5.99it/s]\u001b[A\n",
      "Rows Traversed:  81%|█████████████████████▏    | 35/43 [00:05<00:01,  6.00it/s]\u001b[A\n",
      "Rows Traversed:  84%|█████████████████████▊    | 36/43 [00:05<00:01,  6.00it/s]\u001b[A\n",
      "Rows Traversed:  86%|██████████████████████▎   | 37/43 [00:06<00:01,  5.99it/s]\u001b[A\n",
      "Rows Traversed:  88%|██████████████████████▉   | 38/43 [00:06<00:00,  5.93it/s]\u001b[A\n",
      "Rows Traversed:  91%|███████████████████████▌  | 39/43 [00:06<00:00,  5.92it/s]\u001b[A\n",
      "Rows Traversed:  93%|████████████████████████▏ | 40/43 [00:06<00:00,  5.92it/s]\u001b[A\n",
      "Rows Traversed:  95%|████████████████████████▊ | 41/43 [00:06<00:00,  5.94it/s]\u001b[A\n",
      "Rows Traversed:  98%|█████████████████████████▍| 42/43 [00:06<00:00,  6.06it/s]\u001b[A\n",
      "Rows Traversed: 100%|██████████████████████████| 43/43 [00:07<00:00,  6.12it/s]\u001b[A\n",
      " 50%|██████████████████████                      | 2/4 [00:19<00:19,  9.66s/it]\n",
      "Rows Traversed:   0%|                                   | 0/43 [00:00<?, ?it/s]\u001b[A\n",
      "Rows Traversed:   2%|▋                          | 1/43 [00:00<00:07,  5.48it/s]\u001b[A\n",
      "Rows Traversed:   5%|█▎                         | 2/43 [00:00<00:06,  6.17it/s]\u001b[A\n",
      "Rows Traversed:   7%|█▉                         | 3/43 [00:00<00:06,  6.43it/s]\u001b[A\n",
      "Rows Traversed:   9%|██▌                        | 4/43 [00:00<00:06,  5.58it/s]\u001b[A\n",
      "Rows Traversed:  12%|███▏                       | 5/43 [00:00<00:06,  5.93it/s]\u001b[A\n",
      "Rows Traversed:  14%|███▊                       | 6/43 [00:00<00:06,  6.14it/s]\u001b[A\n",
      "Rows Traversed:  16%|████▍                      | 7/43 [00:01<00:05,  6.12it/s]\u001b[A\n",
      "Rows Traversed:  19%|█████                      | 8/43 [00:01<00:05,  6.28it/s]\u001b[A\n",
      "Rows Traversed:  21%|█████▋                     | 9/43 [00:01<00:05,  6.36it/s]\u001b[A\n",
      "Rows Traversed:  23%|██████                    | 10/43 [00:01<00:05,  6.26it/s]\u001b[A\n",
      "Rows Traversed:  26%|██████▋                   | 11/43 [00:01<00:05,  6.13it/s]\u001b[A\n",
      "Rows Traversed:  28%|███████▎                  | 12/43 [00:01<00:05,  6.06it/s]\u001b[A\n",
      "Rows Traversed:  30%|███████▊                  | 13/43 [00:02<00:04,  6.04it/s]\u001b[A\n",
      "Rows Traversed:  33%|████████▍                 | 14/43 [00:02<00:04,  5.86it/s]\u001b[A\n",
      "Rows Traversed:  35%|█████████                 | 15/43 [00:02<00:04,  5.90it/s]\u001b[A\n",
      "Rows Traversed:  37%|█████████▋                | 16/43 [00:02<00:04,  5.68it/s]\u001b[A\n",
      "Rows Traversed:  40%|██████████▎               | 17/43 [00:02<00:04,  5.70it/s]\u001b[A\n",
      "Rows Traversed:  42%|██████████▉               | 18/43 [00:03<00:04,  5.75it/s]\u001b[A\n",
      "Rows Traversed:  44%|███████████▍              | 19/43 [00:03<00:04,  5.87it/s]\u001b[A\n",
      "Rows Traversed:  47%|████████████              | 20/43 [00:03<00:03,  5.92it/s]\u001b[A\n",
      "Rows Traversed:  49%|████████████▋             | 21/43 [00:03<00:03,  5.97it/s]\u001b[A\n",
      "Rows Traversed:  51%|█████████████▎            | 22/43 [00:03<00:03,  5.98it/s]\u001b[A\n",
      "Rows Traversed:  53%|█████████████▉            | 23/43 [00:03<00:03,  5.58it/s]\u001b[A\n",
      "Rows Traversed:  56%|██████████████▌           | 24/43 [00:04<00:03,  5.90it/s]\u001b[A\n",
      "Rows Traversed:  58%|███████████████           | 25/43 [00:04<00:02,  6.14it/s]\u001b[A\n",
      "Rows Traversed:  60%|███████████████▋          | 26/43 [00:04<00:02,  6.25it/s]\u001b[A\n",
      "Rows Traversed:  63%|████████████████▎         | 27/43 [00:04<00:02,  5.87it/s]\u001b[A\n",
      "Rows Traversed:  65%|████████████████▉         | 28/43 [00:04<00:02,  5.89it/s]\u001b[A\n",
      "Rows Traversed:  67%|█████████████████▌        | 29/43 [00:04<00:02,  5.90it/s]\u001b[A\n",
      "Rows Traversed:  70%|██████████████████▏       | 30/43 [00:05<00:02,  5.84it/s]\u001b[A\n",
      "Rows Traversed:  72%|██████████████████▋       | 31/43 [00:05<00:02,  5.85it/s]\u001b[A\n",
      "Rows Traversed:  74%|███████████████████▎      | 32/43 [00:05<00:01,  5.78it/s]\u001b[A\n",
      "Rows Traversed:  77%|███████████████████▉      | 33/43 [00:05<00:01,  5.88it/s]\u001b[A\n",
      "Rows Traversed:  79%|████████████████████▌     | 34/43 [00:05<00:01,  5.92it/s]\u001b[A\n",
      "Rows Traversed:  81%|█████████████████████▏    | 35/43 [00:05<00:01,  5.91it/s]\u001b[A\n",
      "Rows Traversed:  84%|█████████████████████▊    | 36/43 [00:06<00:01,  5.90it/s]\u001b[A\n",
      "Rows Traversed:  86%|██████████████████████▎   | 37/43 [00:06<00:01,  5.94it/s]\u001b[A\n",
      "Rows Traversed:  88%|██████████████████████▉   | 38/43 [00:06<00:00,  5.83it/s]\u001b[A\n",
      "Rows Traversed:  91%|███████████████████████▌  | 39/43 [00:06<00:00,  5.47it/s]\u001b[A\n",
      "Rows Traversed:  93%|████████████████████████▏ | 40/43 [00:06<00:00,  5.80it/s]\u001b[A\n",
      "Rows Traversed:  95%|████████████████████████▊ | 41/43 [00:06<00:00,  6.03it/s]\u001b[A\n",
      "Rows Traversed:  98%|█████████████████████████▍| 42/43 [00:07<00:00,  5.96it/s]\u001b[A\n",
      "Rows Traversed: 100%|██████████████████████████| 43/43 [00:07<00:00,  5.93it/s]\u001b[A\n",
      " 75%|█████████████████████████████████           | 3/4 [00:28<00:09,  9.61s/it]\n",
      "Rows Traversed:   0%|                                   | 0/43 [00:00<?, ?it/s]\u001b[A\n",
      "Rows Traversed:   2%|▋                          | 1/43 [00:00<00:07,  5.67it/s]\u001b[A\n",
      "Rows Traversed:   5%|█▎                         | 2/43 [00:00<00:06,  6.41it/s]\u001b[A\n",
      "Rows Traversed:   7%|█▉                         | 3/43 [00:00<00:06,  6.60it/s]\u001b[A\n",
      "Rows Traversed:   9%|██▌                        | 4/43 [00:00<00:05,  6.75it/s]\u001b[A\n",
      "Rows Traversed:  12%|███▏                       | 5/43 [00:00<00:05,  6.85it/s]\u001b[A\n",
      "Rows Traversed:  14%|███▊                       | 6/43 [00:00<00:05,  6.82it/s]\u001b[A\n",
      "Rows Traversed:  16%|████▍                      | 7/43 [00:01<00:05,  6.76it/s]\u001b[A\n",
      "Rows Traversed:  19%|█████                      | 8/43 [00:01<00:05,  6.05it/s]\u001b[A\n",
      "Rows Traversed:  21%|█████▋                     | 9/43 [00:01<00:05,  6.30it/s]\u001b[A\n",
      "Rows Traversed:  23%|██████                    | 10/43 [00:01<00:05,  6.45it/s]\u001b[A\n",
      "Rows Traversed:  26%|██████▋                   | 11/43 [00:01<00:04,  6.43it/s]\u001b[A\n",
      "Rows Traversed:  28%|███████▎                  | 12/43 [00:01<00:04,  6.33it/s]\u001b[A\n",
      "Rows Traversed:  30%|███████▊                  | 13/43 [00:02<00:04,  6.34it/s]\u001b[A\n",
      "Rows Traversed:  33%|████████▍                 | 14/43 [00:02<00:04,  6.34it/s]\u001b[A\n",
      "Rows Traversed:  35%|█████████                 | 15/43 [00:02<00:04,  6.17it/s]\u001b[A\n",
      "Rows Traversed:  37%|█████████▋                | 16/43 [00:02<00:04,  6.19it/s]\u001b[A\n",
      "Rows Traversed:  40%|██████████▎               | 17/43 [00:02<00:04,  6.32it/s]\u001b[A\n",
      "Rows Traversed:  42%|██████████▉               | 18/43 [00:02<00:03,  6.34it/s]\u001b[A\n",
      "Rows Traversed:  44%|███████████▍              | 19/43 [00:02<00:03,  6.29it/s]\u001b[A\n",
      "Rows Traversed:  47%|████████████              | 20/43 [00:03<00:03,  6.34it/s]\u001b[A\n",
      "Rows Traversed:  49%|████████████▋             | 21/43 [00:03<00:03,  5.83it/s]\u001b[A\n",
      "Rows Traversed:  51%|█████████████▎            | 22/43 [00:03<00:03,  6.13it/s]\u001b[A\n",
      "Rows Traversed:  53%|█████████████▉            | 23/43 [00:03<00:03,  6.34it/s]\u001b[A\n",
      "Rows Traversed:  56%|██████████████▌           | 24/43 [00:03<00:02,  6.34it/s]\u001b[A\n",
      "Rows Traversed:  58%|███████████████           | 25/43 [00:03<00:02,  6.17it/s]\u001b[A\n",
      "Rows Traversed:  60%|███████████████▋          | 26/43 [00:04<00:02,  6.33it/s]\u001b[A\n",
      "Rows Traversed:  63%|████████████████▎         | 27/43 [00:04<00:02,  6.28it/s]\u001b[A\n",
      "Rows Traversed:  65%|████████████████▉         | 28/43 [00:04<00:02,  6.31it/s]\u001b[A\n",
      "Rows Traversed:  67%|█████████████████▌        | 29/43 [00:04<00:02,  6.30it/s]\u001b[A\n",
      "Rows Traversed:  70%|██████████████████▏       | 30/43 [00:04<00:02,  6.31it/s]\u001b[A\n",
      "Rows Traversed:  72%|██████████████████▋       | 31/43 [00:04<00:01,  6.28it/s]\u001b[A\n",
      "Rows Traversed:  74%|███████████████████▎      | 32/43 [00:05<00:01,  6.34it/s]\u001b[A\n",
      "Rows Traversed:  77%|███████████████████▉      | 33/43 [00:05<00:01,  5.85it/s]\u001b[A\n",
      "Rows Traversed:  79%|████████████████████▌     | 34/43 [00:05<00:01,  6.14it/s]\u001b[A\n",
      "Rows Traversed:  81%|█████████████████████▏    | 35/43 [00:05<00:01,  6.37it/s]\u001b[A\n",
      "Rows Traversed:  84%|█████████████████████▊    | 36/43 [00:05<00:01,  6.47it/s]\u001b[A\n",
      "Rows Traversed:  86%|██████████████████████▎   | 37/43 [00:05<00:00,  6.30it/s]\u001b[A\n",
      "Rows Traversed:  88%|██████████████████████▉   | 38/43 [00:06<00:00,  6.25it/s]\u001b[A\n",
      "Rows Traversed:  91%|███████████████████████▌  | 39/43 [00:06<00:00,  6.38it/s]\u001b[A\n",
      "Rows Traversed:  93%|████████████████████████▏ | 40/43 [00:06<00:00,  6.43it/s]\u001b[A\n",
      "Rows Traversed:  95%|████████████████████████▊ | 41/43 [00:06<00:00,  6.47it/s]\u001b[A\n",
      "Rows Traversed:  98%|█████████████████████████▍| 42/43 [00:06<00:00,  6.40it/s]\u001b[A\n",
      "Rows Traversed: 100%|██████████████████████████| 43/43 [00:06<00:00,  6.33it/s]\u001b[A\n",
      "100%|████████████████████████████████████████████| 4/4 [00:37<00:00,  9.46s/it]\n"
     ]
    },
    {
     "data": {
      "text/plain": [
       "[PosixPath('out_metrics/chile_fire_2024/track18/transformer/post_2024-02-05_transformer_track18.tif'),\n",
       " PosixPath('out_metrics/chile_fire_2024/track18/transformer/post_2024-02-17_transformer_track18.tif'),\n",
       " PosixPath('out_metrics/chile_fire_2024/track18/transformer/pre_2024-01-24_transformer_track18.tif'),\n",
       " PosixPath('out_metrics/chile_fire_2024/track18/transformer/pre_2024-01-12_transformer_track18.tif')]"
      ]
     },
     "execution_count": 43,
     "metadata": {},
     "output_type": "execute_result"
    }
   ],
   "source": [
    "distmetric_serialize()"
   ]
  }
 ],
 "metadata": {
  "kernelspec": {
   "display_name": "dist-s1",
   "language": "python",
   "name": "dist-s1"
  },
  "language_info": {
   "codemirror_mode": {
    "name": "ipython",
    "version": 3
   },
   "file_extension": ".py",
   "mimetype": "text/x-python",
   "name": "python",
   "nbconvert_exporter": "python",
   "pygments_lexer": "ipython3",
   "version": "3.12.4"
  }
 },
 "nbformat": 4,
 "nbformat_minor": 5
}
