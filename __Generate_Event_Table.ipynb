{
 "cells": [
  {
   "cell_type": "code",
   "execution_count": 2,
   "id": "7f7226f8-33ca-4540-bb83-54cf66a0c64c",
   "metadata": {},
   "outputs": [],
   "source": [
    "import geopandas as gpd\n",
    "from pathlib import Path\n",
    "import yaml\n",
    "from rasterio.crs import CRS"
   ]
  },
  {
   "cell_type": "code",
   "execution_count": 3,
   "id": "010b290b-0bd2-42e5-9611-17ef6adc9f5d",
   "metadata": {},
   "outputs": [],
   "source": [
    "DIST_EVENT_REPO = Path('../dist-s1-events')"
   ]
  },
  {
   "cell_type": "code",
   "execution_count": 4,
   "id": "4020fd8c-8e62-468a-a00c-ac919f4777dd",
   "metadata": {},
   "outputs": [
    {
     "data": {
      "text/plain": [
       "{'event_name': 'chile_fire_2024',\n",
       " 'bounds': [-71.53071089, -33.20143816, -71.2964628, -32.98270579],\n",
       " 'event_date': '2024-02-04',\n",
       " 'pre_event_window_days': 180,\n",
       " 'post_event_window_days': 100,\n",
       " 'rtc_track_numbers': [18, 156],\n",
       " 'mgrs_tiles': ['19HBD'],\n",
       " 'source_id': 'EMSR715 AOI1',\n",
       " 'dist_hls_confirmed_change_min_days': 30,\n",
       " 'links': ['https://earthobservatory.nasa.gov/images/152411/fires-rage-in-central-chile',\n",
       "  'https://en.wikipedia.org/wiki/2024_Chile_wildfires']}"
      ]
     },
     "execution_count": 4,
     "metadata": {},
     "output_type": "execute_result"
    }
   ],
   "source": [
    "EVENT_YAML_DIR = DIST_EVENT_REPO / 'events'\n",
    "yaml_file = EVENT_YAML_DIR / f'chile_fire_2024.yml'\n",
    "with open(yaml_file) as f:\n",
    "    event_dict = yaml.safe_load(f)[\"event\"]\n",
    "event_dict"
   ]
  },
  {
   "cell_type": "code",
   "execution_count": 5,
   "id": "9b890bff-4c50-4527-b038-310e76864f20",
   "metadata": {},
   "outputs": [],
   "source": [
    "VAL_AOI_DIR = DIST_EVENT_REPO / 'external_validation_data_extents_db/'"
   ]
  },
  {
   "cell_type": "code",
   "execution_count": 6,
   "id": "bc4d90a7-91ee-4f25-a8c7-24af0ccf969c",
   "metadata": {},
   "outputs": [],
   "source": [
    "def get_type(name: str) -> str:\n",
    "    if 'fire' in name:\n",
    "        return 'fire'\n",
    "    if 'landslide' in name:\n",
    "        return 'landslide'\n",
    "    if 'flood' in name:\n",
    "        return 'flood'\n",
    "def format_yaml_data(yaml_path: Path):\n",
    "    with open(yaml_path) as f:\n",
    "        event_dict = yaml.safe_load(f)[\"event\"]\n",
    "\n",
    "    name = event_dict['event_name']\n",
    "    val_aoi = gpd.read_file(VAL_AOI_DIR / f'{name}.geojson')\n",
    "    \n",
    "    out = {'event_name': name,\n",
    "           'track_numbers': ' '.join(list(map(str, event_dict['rtc_track_numbers']))),\n",
    "           'n_tracks': len(event_dict['rtc_track_numbers']),\n",
    "           'event_type': get_type(name),\n",
    "           'geometry': val_aoi.geometry.unary_union.centroid}\n",
    "    return out"
   ]
  },
  {
   "cell_type": "code",
   "execution_count": 7,
   "id": "87b98b13-d2d9-4a1c-a54e-b7d2d8a034d0",
   "metadata": {},
   "outputs": [
    {
     "data": {
      "text/plain": [
       "[{'event_name': 'chiapas_fire_2024',\n",
       "  'track_numbers': '172 107',\n",
       "  'n_tracks': 2,\n",
       "  'event_type': 'fire',\n",
       "  'geometry': <POINT (-94.345 16.648)>},\n",
       " {'event_name': 'yajiang_fire_2024',\n",
       "  'track_numbers': '26 135',\n",
       "  'n_tracks': 2,\n",
       "  'event_type': 'fire',\n",
       "  'geometry': <POINT (101.139 30.133)>},\n",
       " {'event_name': 'bangladesh_coastal_flood_2024',\n",
       "  'track_numbers': '150 114',\n",
       "  'n_tracks': 2,\n",
       "  'event_type': 'flood',\n",
       "  'geometry': <POINT (90.039 23.083)>}]"
      ]
     },
     "execution_count": 7,
     "metadata": {},
     "output_type": "execute_result"
    }
   ],
   "source": [
    "yaml_paths = list(EVENT_YAML_DIR.glob('*.yml'))\n",
    "data = list(map(format_yaml_data, yaml_paths))\n",
    "data[:3]"
   ]
  },
  {
   "cell_type": "code",
   "execution_count": 8,
   "id": "a3899175-cc1b-4443-a855-482f75da9864",
   "metadata": {},
   "outputs": [
    {
     "data": {
      "text/plain": [
       "<Axes: >"
      ]
     },
     "execution_count": 8,
     "metadata": {},
     "output_type": "execute_result"
    },
    {
     "data": {
      "image/png": "[encoded data removed]",
      "text/plain": [
       "<Figure size 640x480 with 1 Axes>"
      ]
     },
     "metadata": {},
     "output_type": "display_data"
    }
   ],
   "source": [
    "df_events = gpd.GeoDataFrame(data, crs=CRS.from_epsg(4326))\n",
    "df_events = df_events[~df_events.event_name.str.contains('durkee')]\n",
    "df_events.plot()"
   ]
  },
  {
   "cell_type": "code",
   "execution_count": 9,
   "id": "3692d94d-56de-4b26-aa46-bb107b05773a",
   "metadata": {
    "editable": true,
    "slideshow": {
     "slide_type": ""
    },
    "tags": []
   },
   "outputs": [
    {
     "data": {
      "text/html": [
       "<div>\n",
       "<style scoped>\n",
       "    .dataframe tbody tr th:only-of-type {\n",
       "        vertical-align: middle;\n",
       "    }\n",
       "\n",
       "    .dataframe tbody tr th {\n",
       "        vertical-align: top;\n",
       "    }\n",
       "\n",
       "    .dataframe thead th {\n",
       "        text-align: right;\n",
       "    }\n",
       "</style>\n",
       "<table border=\"1\" class=\"dataframe\">\n",
       "  <thead>\n",
       "    <tr style=\"text-align: right;\">\n",
       "      <th></th>\n",
       "      <th>event_name</th>\n",
       "      <th>track_numbers</th>\n",
       "      <th>n_tracks</th>\n",
       "      <th>event_type</th>\n",
       "      <th>geometry</th>\n",
       "    </tr>\n",
       "  </thead>\n",
       "  <tbody>\n",
       "    <tr>\n",
       "      <th>0</th>\n",
       "      <td>chiapas_fire_2024</td>\n",
       "      <td>172 107</td>\n",
       "      <td>2</td>\n",
       "      <td>fire</td>\n",
       "      <td>POINT (-94.34451 16.64831)</td>\n",
       "    </tr>\n",
       "    <tr>\n",
       "      <th>1</th>\n",
       "      <td>yajiang_fire_2024</td>\n",
       "      <td>26 135</td>\n",
       "      <td>2</td>\n",
       "      <td>fire</td>\n",
       "      <td>POINT (101.13874 30.13296)</td>\n",
       "    </tr>\n",
       "    <tr>\n",
       "      <th>2</th>\n",
       "      <td>bangladesh_coastal_flood_2024</td>\n",
       "      <td>150 114</td>\n",
       "      <td>2</td>\n",
       "      <td>flood</td>\n",
       "      <td>POINT (90.03851 23.08317)</td>\n",
       "    </tr>\n",
       "    <tr>\n",
       "      <th>3</th>\n",
       "      <td>park_fire_2024</td>\n",
       "      <td>137 115</td>\n",
       "      <td>2</td>\n",
       "      <td>fire</td>\n",
       "      <td>POINT (-121.77916 40.08287)</td>\n",
       "    </tr>\n",
       "    <tr>\n",
       "      <th>4</th>\n",
       "      <td>chilcotin_river_landslide_and_flood_2024</td>\n",
       "      <td>13 137</td>\n",
       "      <td>2</td>\n",
       "      <td>landslide</td>\n",
       "      <td>POINT (-122.80448 51.85728)</td>\n",
       "    </tr>\n",
       "    <tr>\n",
       "      <th>5</th>\n",
       "      <td>demak_flood_2024</td>\n",
       "      <td>76 127</td>\n",
       "      <td>2</td>\n",
       "      <td>flood</td>\n",
       "      <td>POINT (110.87344 -6.89332)</td>\n",
       "    </tr>\n",
       "    <tr>\n",
       "      <th>6</th>\n",
       "      <td>papau_new_guinea_landslide_2024</td>\n",
       "      <td>9 133</td>\n",
       "      <td>2</td>\n",
       "      <td>landslide</td>\n",
       "      <td>POINT (143.36498 -5.38015)</td>\n",
       "    </tr>\n",
       "    <tr>\n",
       "      <th>7</th>\n",
       "      <td>bioko_fire_2024</td>\n",
       "      <td>30 51</td>\n",
       "      <td>2</td>\n",
       "      <td>fire</td>\n",
       "      <td>POINT (8.74928 3.58532)</td>\n",
       "    </tr>\n",
       "    <tr>\n",
       "      <th>8</th>\n",
       "      <td>attica_fire_2024</td>\n",
       "      <td>7 102 109</td>\n",
       "      <td>3</td>\n",
       "      <td>fire</td>\n",
       "      <td>POINT (23.91358 38.12181)</td>\n",
       "    </tr>\n",
       "    <tr>\n",
       "      <th>9</th>\n",
       "      <td>belize_fire_south_2024</td>\n",
       "      <td>18 156</td>\n",
       "      <td>2</td>\n",
       "      <td>fire</td>\n",
       "      <td>POINT (-89.08625 16.09611)</td>\n",
       "    </tr>\n",
       "    <tr>\n",
       "      <th>10</th>\n",
       "      <td>tuscany_flood_2023</td>\n",
       "      <td>15 168</td>\n",
       "      <td>2</td>\n",
       "      <td>flood</td>\n",
       "      <td>POINT (11.06783 43.88205)</td>\n",
       "    </tr>\n",
       "    <tr>\n",
       "      <th>11</th>\n",
       "      <td>afghanistan_flood_2024</td>\n",
       "      <td>71 78</td>\n",
       "      <td>2</td>\n",
       "      <td>flood</td>\n",
       "      <td>POINT (69.25994 36.30442)</td>\n",
       "    </tr>\n",
       "    <tr>\n",
       "      <th>13</th>\n",
       "      <td>mai_mahiu_flood_and_landslides_2024</td>\n",
       "      <td>130 57</td>\n",
       "      <td>2</td>\n",
       "      <td>landslide</td>\n",
       "      <td>POINT (36.97592 -1.21685)</td>\n",
       "    </tr>\n",
       "    <tr>\n",
       "      <th>14</th>\n",
       "      <td>cipongkor_landslides_2024</td>\n",
       "      <td>98 149</td>\n",
       "      <td>2</td>\n",
       "      <td>landslide</td>\n",
       "      <td>POINT (107.31124 -6.94052)</td>\n",
       "    </tr>\n",
       "    <tr>\n",
       "      <th>15</th>\n",
       "      <td>chile_fire_2024</td>\n",
       "      <td>18 156</td>\n",
       "      <td>2</td>\n",
       "      <td>fire</td>\n",
       "      <td>POINT (-71.38870 -33.07876)</td>\n",
       "    </tr>\n",
       "    <tr>\n",
       "      <th>16</th>\n",
       "      <td>brazzaville_flood_and_landslides_2023</td>\n",
       "      <td>7 109</td>\n",
       "      <td>2</td>\n",
       "      <td>landslide</td>\n",
       "      <td>POINT (15.25424 -4.22268)</td>\n",
       "    </tr>\n",
       "    <tr>\n",
       "      <th>17</th>\n",
       "      <td>smokehouse_creek_fire_2024</td>\n",
       "      <td>5 12</td>\n",
       "      <td>2</td>\n",
       "      <td>fire</td>\n",
       "      <td>POINT (-100.71615 35.79560)</td>\n",
       "    </tr>\n",
       "    <tr>\n",
       "      <th>18</th>\n",
       "      <td>monkey_creek_fire_2024</td>\n",
       "      <td>64</td>\n",
       "      <td>1</td>\n",
       "      <td>fire</td>\n",
       "      <td>POINT (-119.27625 44.94836)</td>\n",
       "    </tr>\n",
       "    <tr>\n",
       "      <th>19</th>\n",
       "      <td>southwest_france_flood_2023</td>\n",
       "      <td>30 8</td>\n",
       "      <td>2</td>\n",
       "      <td>flood</td>\n",
       "      <td>POINT (-0.30429 45.76840)</td>\n",
       "    </tr>\n",
       "    <tr>\n",
       "      <th>20</th>\n",
       "      <td>brazzaville_flood_and_landslides_2024</td>\n",
       "      <td>7 109</td>\n",
       "      <td>2</td>\n",
       "      <td>landslide</td>\n",
       "      <td>POINT (15.25711 -4.22028)</td>\n",
       "    </tr>\n",
       "  </tbody>\n",
       "</table>\n",
       "</div>"
      ],
      "text/plain": [
       "                                  event_name track_numbers  n_tracks  \\\n",
       "0                          chiapas_fire_2024       172 107         2   \n",
       "1                          yajiang_fire_2024        26 135         2   \n",
       "2              bangladesh_coastal_flood_2024       150 114         2   \n",
       "3                             park_fire_2024       137 115         2   \n",
       "4   chilcotin_river_landslide_and_flood_2024        13 137         2   \n",
       "5                           demak_flood_2024        76 127         2   \n",
       "6            papau_new_guinea_landslide_2024         9 133         2   \n",
       "7                            bioko_fire_2024         30 51         2   \n",
       "8                           attica_fire_2024     7 102 109         3   \n",
       "9                     belize_fire_south_2024        18 156         2   \n",
       "10                        tuscany_flood_2023        15 168         2   \n",
       "11                    afghanistan_flood_2024         71 78         2   \n",
       "13       mai_mahiu_flood_and_landslides_2024        130 57         2   \n",
       "14                 cipongkor_landslides_2024        98 149         2   \n",
       "15                           chile_fire_2024        18 156         2   \n",
       "16     brazzaville_flood_and_landslides_2023         7 109         2   \n",
       "17                smokehouse_creek_fire_2024          5 12         2   \n",
       "18                    monkey_creek_fire_2024            64         1   \n",
       "19               southwest_france_flood_2023          30 8         2   \n",
       "20     brazzaville_flood_and_landslides_2024         7 109         2   \n",
       "\n",
       "   event_type                     geometry  \n",
       "0        fire   POINT (-94.34451 16.64831)  \n",
       "1        fire   POINT (101.13874 30.13296)  \n",
       "2       flood    POINT (90.03851 23.08317)  \n",
       "3        fire  POINT (-121.77916 40.08287)  \n",
       "4   landslide  POINT (-122.80448 51.85728)  \n",
       "5       flood   POINT (110.87344 -6.89332)  \n",
       "6   landslide   POINT (143.36498 -5.38015)  \n",
       "7        fire      POINT (8.74928 3.58532)  \n",
       "8        fire    POINT (23.91358 38.12181)  \n",
       "9        fire   POINT (-89.08625 16.09611)  \n",
       "10      flood    POINT (11.06783 43.88205)  \n",
       "11      flood    POINT (69.25994 36.30442)  \n",
       "13  landslide    POINT (36.97592 -1.21685)  \n",
       "14  landslide   POINT (107.31124 -6.94052)  \n",
       "15       fire  POINT (-71.38870 -33.07876)  \n",
       "16  landslide    POINT (15.25424 -4.22268)  \n",
       "17       fire  POINT (-100.71615 35.79560)  \n",
       "18       fire  POINT (-119.27625 44.94836)  \n",
       "19      flood    POINT (-0.30429 45.76840)  \n",
       "20  landslide    POINT (15.25711 -4.22028)  "
      ]
     },
     "execution_count": 9,
     "metadata": {},
     "output_type": "execute_result"
    }
   ],
   "source": [
    "df_events"
   ]
  },
  {
   "cell_type": "code",
   "execution_count": 10,
   "id": "05f7c782-2503-4be4-8878-d90a32d01856",
   "metadata": {
    "editable": true,
    "slideshow": {
     "slide_type": ""
    },
    "tags": []
   },
   "outputs": [],
   "source": [
    "df_events.to_file('dist_s1_events.geojson', driver='GeoJSON')"
   ]
  },
  {
   "cell_type": "code",
   "execution_count": 11,
   "id": "4131df9e-ed5d-419c-be16-7bdebef0a773",
   "metadata": {
    "editable": true,
    "slideshow": {
     "slide_type": ""
    },
    "tags": []
   },
   "outputs": [
    {
     "data": {
      "text/plain": [
       "{'chiapas_fire_2024': ['172', '107'],\n",
       " 'yajiang_fire_2024': ['26', '135'],\n",
       " 'bangladesh_coastal_flood_2024': ['150', '114'],\n",
       " 'park_fire_2024': ['137', '115'],\n",
       " 'chilcotin_river_landslide_and_flood_2024': ['13', '137'],\n",
       " 'demak_flood_2024': ['76', '127'],\n",
       " 'papau_new_guinea_landslide_2024': ['9', '133'],\n",
       " 'bioko_fire_2024': ['30', '51'],\n",
       " 'attica_fire_2024': ['7', '102', '109'],\n",
       " 'belize_fire_south_2024': ['18', '156'],\n",
       " 'tuscany_flood_2023': ['15', '168'],\n",
       " 'afghanistan_flood_2024': ['71', '78'],\n",
       " 'mai_mahiu_flood_and_landslides_2024': ['130', '57'],\n",
       " 'cipongkor_landslides_2024': ['98', '149'],\n",
       " 'chile_fire_2024': ['18', '156'],\n",
       " 'brazzaville_flood_and_landslides_2023': ['7', '109'],\n",
       " 'smokehouse_creek_fire_2024': ['5', '12'],\n",
       " 'monkey_creek_fire_2024': ['64'],\n",
       " 'southwest_france_flood_2023': ['30', '8'],\n",
       " 'brazzaville_flood_and_landslides_2024': ['7', '109']}"
      ]
     },
     "execution_count": 11,
     "metadata": {},
     "output_type": "execute_result"
    }
   ],
   "source": [
    "event_track_lut = {e: t.split(' ') \n",
    "                   for (e, t) in zip(df_events.event_name.tolist(), df_events.track_numbers.tolist()) if t}\n",
    "event_track_lut"
   ]
  }
 ],
 "metadata": {
  "kernelspec": {
   "display_name": "dist-s1",
   "language": "python",
   "name": "dist-s1"
  },
  "language_info": {
   "codemirror_mode": {
    "name": "ipython",
    "version": 3
   },
   "file_extension": ".py",
   "mimetype": "text/x-python",
   "name": "python",
   "nbconvert_exporter": "python",
   "pygments_lexer": "ipython3",
   "version": "3.12.4"
  }
 },
 "nbformat": 4,
 "nbformat_minor": 5
}
